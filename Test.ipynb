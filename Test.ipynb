{
 "cells": [
  {
   "cell_type": "code",
   "execution_count": 1,
   "id": "wound-corner",
   "metadata": {},
   "outputs": [
    {
     "name": "stdout",
     "output_type": "stream",
     "text": [
      "Requirement already satisfied: openpyxl in /opt/conda/lib/python3.8/site-packages (3.0.9)\n",
      "Requirement already satisfied: et-xmlfile in /opt/conda/lib/python3.8/site-packages (from openpyxl) (1.1.0)\n",
      "Note: you may need to restart the kernel to use updated packages.\n"
     ]
    }
   ],
   "source": [
    "pip install openpyxl"
   ]
  },
  {
   "cell_type": "code",
   "execution_count": 2,
   "id": "medical-tribune",
   "metadata": {},
   "outputs": [],
   "source": [
    "#import packages\n",
    "import numpy as np\n",
    "import matplotlib.pyplot as plt\n",
    "import pandas as pd\n",
    "import statsmodels.api as sm"
   ]
  },
  {
   "cell_type": "code",
   "execution_count": 3,
   "id": "fatty-actress",
   "metadata": {},
   "outputs": [
    {
     "data": {
      "text/html": [
       "<div>\n",
       "<style scoped>\n",
       "    .dataframe tbody tr th:only-of-type {\n",
       "        vertical-align: middle;\n",
       "    }\n",
       "\n",
       "    .dataframe tbody tr th {\n",
       "        vertical-align: top;\n",
       "    }\n",
       "\n",
       "    .dataframe thead th {\n",
       "        text-align: right;\n",
       "    }\n",
       "</style>\n",
       "<table border=\"1\" class=\"dataframe\">\n",
       "  <thead>\n",
       "    <tr style=\"text-align: right;\">\n",
       "      <th></th>\n",
       "      <th>Unnamed: 0</th>\n",
       "      <th>Unnamed: 1</th>\n",
       "      <th>Unnamed: 2</th>\n",
       "      <th>Unnamed: 3</th>\n",
       "      <th>Unnamed: 4</th>\n",
       "      <th>Unnamed: 5</th>\n",
       "      <th>Unnamed: 6</th>\n",
       "    </tr>\n",
       "  </thead>\n",
       "  <tbody>\n",
       "    <tr>\n",
       "      <th>0</th>\n",
       "      <td>NaN</td>\n",
       "      <td>NaN</td>\n",
       "      <td>NaN</td>\n",
       "      <td>NaN</td>\n",
       "      <td>NaN</td>\n",
       "      <td>NaN</td>\n",
       "      <td>NaN</td>\n",
       "    </tr>\n",
       "    <tr>\n",
       "      <th>1</th>\n",
       "      <td>NaN</td>\n",
       "      <td>NaN</td>\n",
       "      <td>NaN</td>\n",
       "      <td>NaN</td>\n",
       "      <td>NaN</td>\n",
       "      <td>NaN</td>\n",
       "      <td>NaN</td>\n",
       "    </tr>\n",
       "    <tr>\n",
       "      <th>2</th>\n",
       "      <td>NaN</td>\n",
       "      <td>NaN</td>\n",
       "      <td>NaN</td>\n",
       "      <td>NaN</td>\n",
       "      <td>NaN</td>\n",
       "      <td>NaN</td>\n",
       "      <td>NaN</td>\n",
       "    </tr>\n",
       "    <tr>\n",
       "      <th>3</th>\n",
       "      <td>NaN</td>\n",
       "      <td>NaN</td>\n",
       "      <td>NaN</td>\n",
       "      <td>NaN</td>\n",
       "      <td>NaN</td>\n",
       "      <td>NaN</td>\n",
       "      <td>NaN</td>\n",
       "    </tr>\n",
       "    <tr>\n",
       "      <th>4</th>\n",
       "      <td>NaN</td>\n",
       "      <td>NaN</td>\n",
       "      <td>NaN</td>\n",
       "      <td>NaN</td>\n",
       "      <td>NaN</td>\n",
       "      <td>NaN</td>\n",
       "      <td>NaN</td>\n",
       "    </tr>\n",
       "    <tr>\n",
       "      <th>5</th>\n",
       "      <td>NaN</td>\n",
       "      <td>NaN</td>\n",
       "      <td>NaN</td>\n",
       "      <td>NaN</td>\n",
       "      <td>NaN</td>\n",
       "      <td>NaN</td>\n",
       "      <td>NaN</td>\n",
       "    </tr>\n",
       "    <tr>\n",
       "      <th>6</th>\n",
       "      <td>NaN</td>\n",
       "      <td>NaN</td>\n",
       "      <td>NaN</td>\n",
       "      <td>NaN</td>\n",
       "      <td>NaN</td>\n",
       "      <td>NaN</td>\n",
       "      <td>NaN</td>\n",
       "    </tr>\n",
       "    <tr>\n",
       "      <th>7</th>\n",
       "      <td>NaN</td>\n",
       "      <td>NaN</td>\n",
       "      <td>NaN</td>\n",
       "      <td>Start Date</td>\n",
       "      <td>2000-12-29 00:00:00</td>\n",
       "      <td>NaN</td>\n",
       "      <td>NaN</td>\n",
       "    </tr>\n",
       "    <tr>\n",
       "      <th>8</th>\n",
       "      <td>NaN</td>\n",
       "      <td>NaN</td>\n",
       "      <td>NaN</td>\n",
       "      <td>End Date</td>\n",
       "      <td>NaN</td>\n",
       "      <td>NaN</td>\n",
       "      <td>NaN</td>\n",
       "    </tr>\n",
       "    <tr>\n",
       "      <th>9</th>\n",
       "      <td>NaN</td>\n",
       "      <td>NaN</td>\n",
       "      <td>NaN</td>\n",
       "      <td>NaN</td>\n",
       "      <td>MSCI AC World Index EUR Net</td>\n",
       "      <td>MSCI ACWI GDP Net Local</td>\n",
       "      <td>FTSE ALL WORLD</td>\n",
       "    </tr>\n",
       "  </tbody>\n",
       "</table>\n",
       "</div>"
      ],
      "text/plain": [
       "   Unnamed: 0  Unnamed: 1  Unnamed: 2  Unnamed: 3  \\\n",
       "0         NaN         NaN         NaN         NaN   \n",
       "1         NaN         NaN         NaN         NaN   \n",
       "2         NaN         NaN         NaN         NaN   \n",
       "3         NaN         NaN         NaN         NaN   \n",
       "4         NaN         NaN         NaN         NaN   \n",
       "5         NaN         NaN         NaN         NaN   \n",
       "6         NaN         NaN         NaN         NaN   \n",
       "7         NaN         NaN         NaN  Start Date   \n",
       "8         NaN         NaN         NaN    End Date   \n",
       "9         NaN         NaN         NaN         NaN   \n",
       "\n",
       "                    Unnamed: 4               Unnamed: 5      Unnamed: 6  \n",
       "0                          NaN                      NaN             NaN  \n",
       "1                          NaN                      NaN             NaN  \n",
       "2                          NaN                      NaN             NaN  \n",
       "3                          NaN                      NaN             NaN  \n",
       "4                          NaN                      NaN             NaN  \n",
       "5                          NaN                      NaN             NaN  \n",
       "6                          NaN                      NaN             NaN  \n",
       "7          2000-12-29 00:00:00                      NaN             NaN  \n",
       "8                          NaN                      NaN             NaN  \n",
       "9  MSCI AC World Index EUR Net  MSCI ACWI GDP Net Local  FTSE ALL WORLD  "
      ]
     },
     "execution_count": 3,
     "metadata": {},
     "output_type": "execute_result"
    }
   ],
   "source": [
    "#read data\n",
    "df = pd.read_excel('EersteData.xlsx')\n",
    "\n",
    "df.head(10)"
   ]
  },
  {
   "cell_type": "code",
   "execution_count": 4,
   "id": "secret-avatar",
   "metadata": {},
   "outputs": [
    {
     "data": {
      "text/html": [
       "<div>\n",
       "<style scoped>\n",
       "    .dataframe tbody tr th:only-of-type {\n",
       "        vertical-align: middle;\n",
       "    }\n",
       "\n",
       "    .dataframe tbody tr th {\n",
       "        vertical-align: top;\n",
       "    }\n",
       "\n",
       "    .dataframe thead th {\n",
       "        text-align: right;\n",
       "    }\n",
       "</style>\n",
       "<table border=\"1\" class=\"dataframe\">\n",
       "  <thead>\n",
       "    <tr style=\"text-align: right;\">\n",
       "      <th></th>\n",
       "      <th>Unnamed: 3</th>\n",
       "      <th>Unnamed: 4</th>\n",
       "      <th>Unnamed: 5</th>\n",
       "      <th>Unnamed: 6</th>\n",
       "    </tr>\n",
       "  </thead>\n",
       "  <tbody>\n",
       "    <tr>\n",
       "      <th>13</th>\n",
       "      <td>NaN</td>\n",
       "      <td>100</td>\n",
       "      <td>NaN</td>\n",
       "      <td>NaN</td>\n",
       "    </tr>\n",
       "    <tr>\n",
       "      <th>14</th>\n",
       "      <td>2001-01-01 00:00:00</td>\n",
       "      <td>99.995</td>\n",
       "      <td>877.613</td>\n",
       "      <td>NaN</td>\n",
       "    </tr>\n",
       "    <tr>\n",
       "      <th>15</th>\n",
       "      <td>2001-01-02 00:00:00</td>\n",
       "      <td>97.602</td>\n",
       "      <td>866.1976</td>\n",
       "      <td>NaN</td>\n",
       "    </tr>\n",
       "    <tr>\n",
       "      <th>16</th>\n",
       "      <td>2001-01-03 00:00:00</td>\n",
       "      <td>99.782</td>\n",
       "      <td>879.6873</td>\n",
       "      <td>NaN</td>\n",
       "    </tr>\n",
       "    <tr>\n",
       "      <th>17</th>\n",
       "      <td>2001-01-04 00:00:00</td>\n",
       "      <td>100.061</td>\n",
       "      <td>885.8732</td>\n",
       "      <td>NaN</td>\n",
       "    </tr>\n",
       "    <tr>\n",
       "      <th>18</th>\n",
       "      <td>2001-01-05 00:00:00</td>\n",
       "      <td>98.131</td>\n",
       "      <td>878.9521</td>\n",
       "      <td>NaN</td>\n",
       "    </tr>\n",
       "    <tr>\n",
       "      <th>19</th>\n",
       "      <td>2001-01-08 00:00:00</td>\n",
       "      <td>97.966</td>\n",
       "      <td>877.6508</td>\n",
       "      <td>NaN</td>\n",
       "    </tr>\n",
       "    <tr>\n",
       "      <th>20</th>\n",
       "      <td>2001-01-09 00:00:00</td>\n",
       "      <td>98.477</td>\n",
       "      <td>877.3933</td>\n",
       "      <td>NaN</td>\n",
       "    </tr>\n",
       "    <tr>\n",
       "      <th>21</th>\n",
       "      <td>2001-01-10 00:00:00</td>\n",
       "      <td>98.592</td>\n",
       "      <td>877.6931</td>\n",
       "      <td>NaN</td>\n",
       "    </tr>\n",
       "    <tr>\n",
       "      <th>22</th>\n",
       "      <td>2001-01-11 00:00:00</td>\n",
       "      <td>98.485</td>\n",
       "      <td>881.8358</td>\n",
       "      <td>NaN</td>\n",
       "    </tr>\n",
       "  </tbody>\n",
       "</table>\n",
       "</div>"
      ],
      "text/plain": [
       "             Unnamed: 3 Unnamed: 4 Unnamed: 5 Unnamed: 6\n",
       "13                  NaN        100        NaN        NaN\n",
       "14  2001-01-01 00:00:00     99.995    877.613        NaN\n",
       "15  2001-01-02 00:00:00     97.602   866.1976        NaN\n",
       "16  2001-01-03 00:00:00     99.782   879.6873        NaN\n",
       "17  2001-01-04 00:00:00    100.061   885.8732        NaN\n",
       "18  2001-01-05 00:00:00     98.131   878.9521        NaN\n",
       "19  2001-01-08 00:00:00     97.966   877.6508        NaN\n",
       "20  2001-01-09 00:00:00     98.477   877.3933        NaN\n",
       "21  2001-01-10 00:00:00     98.592   877.6931        NaN\n",
       "22  2001-01-11 00:00:00     98.485   881.8358        NaN"
      ]
     },
     "execution_count": 4,
     "metadata": {},
     "output_type": "execute_result"
    }
   ],
   "source": [
    "#drop unnecessary blanks\n",
    "df.drop(df.columns[:3], axis=1, inplace=True)\n",
    "df.drop(df.index[:13], axis=0, inplace=True)\n",
    "df.head(10)"
   ]
  },
  {
   "cell_type": "code",
   "execution_count": 5,
   "id": "subjective-certification",
   "metadata": {},
   "outputs": [],
   "source": [
    "#toevoegen eerste cel GDP want wilt niet readen voor een bepaalde reden?\n",
    "df.iloc[0, 2] = 877.689"
   ]
  },
  {
   "cell_type": "code",
   "execution_count": 6,
   "id": "liable-immunology",
   "metadata": {},
   "outputs": [
    {
     "data": {
      "text/html": [
       "<div>\n",
       "<style scoped>\n",
       "    .dataframe tbody tr th:only-of-type {\n",
       "        vertical-align: middle;\n",
       "    }\n",
       "\n",
       "    .dataframe tbody tr th {\n",
       "        vertical-align: top;\n",
       "    }\n",
       "\n",
       "    .dataframe thead th {\n",
       "        text-align: right;\n",
       "    }\n",
       "</style>\n",
       "<table border=\"1\" class=\"dataframe\">\n",
       "  <thead>\n",
       "    <tr style=\"text-align: right;\">\n",
       "      <th></th>\n",
       "      <th>Date</th>\n",
       "      <th>MSCI AC World Index EUR Net</th>\n",
       "      <th>MSCI ACWI GDP Net Local</th>\n",
       "      <th>FTSE ALL WORLD</th>\n",
       "    </tr>\n",
       "  </thead>\n",
       "  <tbody>\n",
       "    <tr>\n",
       "      <th>13</th>\n",
       "      <td>NaN</td>\n",
       "      <td>100</td>\n",
       "      <td>877.689</td>\n",
       "      <td>NaN</td>\n",
       "    </tr>\n",
       "    <tr>\n",
       "      <th>14</th>\n",
       "      <td>2001-01-01 00:00:00</td>\n",
       "      <td>99.995</td>\n",
       "      <td>877.613</td>\n",
       "      <td>NaN</td>\n",
       "    </tr>\n",
       "    <tr>\n",
       "      <th>15</th>\n",
       "      <td>2001-01-02 00:00:00</td>\n",
       "      <td>97.602</td>\n",
       "      <td>866.1976</td>\n",
       "      <td>NaN</td>\n",
       "    </tr>\n",
       "    <tr>\n",
       "      <th>16</th>\n",
       "      <td>2001-01-03 00:00:00</td>\n",
       "      <td>99.782</td>\n",
       "      <td>879.6873</td>\n",
       "      <td>NaN</td>\n",
       "    </tr>\n",
       "    <tr>\n",
       "      <th>17</th>\n",
       "      <td>2001-01-04 00:00:00</td>\n",
       "      <td>100.061</td>\n",
       "      <td>885.8732</td>\n",
       "      <td>NaN</td>\n",
       "    </tr>\n",
       "  </tbody>\n",
       "</table>\n",
       "</div>"
      ],
      "text/plain": [
       "                   Date MSCI AC World Index EUR Net MSCI ACWI GDP Net Local  \\\n",
       "13                  NaN                         100                 877.689   \n",
       "14  2001-01-01 00:00:00                      99.995                 877.613   \n",
       "15  2001-01-02 00:00:00                      97.602                866.1976   \n",
       "16  2001-01-03 00:00:00                      99.782                879.6873   \n",
       "17  2001-01-04 00:00:00                     100.061                885.8732   \n",
       "\n",
       "   FTSE ALL WORLD  \n",
       "13            NaN  \n",
       "14            NaN  \n",
       "15            NaN  \n",
       "16            NaN  \n",
       "17            NaN  "
      ]
     },
     "execution_count": 6,
     "metadata": {},
     "output_type": "execute_result"
    }
   ],
   "source": [
    "#add column names\n",
    "df.columns = ['Date', 'MSCI AC World Index EUR Net', 'MSCI ACWI GDP Net Local', 'FTSE ALL WORLD']\n",
    "df.head()"
   ]
  },
  {
   "cell_type": "code",
   "execution_count": 7,
   "id": "expired-appeal",
   "metadata": {},
   "outputs": [
    {
     "data": {
      "text/html": [
       "<div>\n",
       "<style scoped>\n",
       "    .dataframe tbody tr th:only-of-type {\n",
       "        vertical-align: middle;\n",
       "    }\n",
       "\n",
       "    .dataframe tbody tr th {\n",
       "        vertical-align: top;\n",
       "    }\n",
       "\n",
       "    .dataframe thead th {\n",
       "        text-align: right;\n",
       "    }\n",
       "</style>\n",
       "<table border=\"1\" class=\"dataframe\">\n",
       "  <thead>\n",
       "    <tr style=\"text-align: right;\">\n",
       "      <th></th>\n",
       "      <th>Date</th>\n",
       "      <th>MSCI AC World Index EUR Net</th>\n",
       "      <th>MSCI ACWI GDP Net Local</th>\n",
       "      <th>FTSE ALL WORLD</th>\n",
       "      <th>PercentageChange</th>\n",
       "      <th>MSCI ACWI GDP Net</th>\n",
       "    </tr>\n",
       "  </thead>\n",
       "  <tbody>\n",
       "    <tr>\n",
       "      <th>13</th>\n",
       "      <td>NaN</td>\n",
       "      <td>100</td>\n",
       "      <td>877.689</td>\n",
       "      <td>NaN</td>\n",
       "      <td>1.000000</td>\n",
       "      <td>100.0</td>\n",
       "    </tr>\n",
       "    <tr>\n",
       "      <th>14</th>\n",
       "      <td>2001-01-01 00:00:00</td>\n",
       "      <td>99.995</td>\n",
       "      <td>877.613</td>\n",
       "      <td>NaN</td>\n",
       "      <td>0.999913</td>\n",
       "      <td>NaN</td>\n",
       "    </tr>\n",
       "    <tr>\n",
       "      <th>15</th>\n",
       "      <td>2001-01-02 00:00:00</td>\n",
       "      <td>97.602</td>\n",
       "      <td>866.1976</td>\n",
       "      <td>NaN</td>\n",
       "      <td>0.986993</td>\n",
       "      <td>NaN</td>\n",
       "    </tr>\n",
       "    <tr>\n",
       "      <th>16</th>\n",
       "      <td>2001-01-03 00:00:00</td>\n",
       "      <td>99.782</td>\n",
       "      <td>879.6873</td>\n",
       "      <td>NaN</td>\n",
       "      <td>1.015573</td>\n",
       "      <td>NaN</td>\n",
       "    </tr>\n",
       "    <tr>\n",
       "      <th>17</th>\n",
       "      <td>2001-01-04 00:00:00</td>\n",
       "      <td>100.061</td>\n",
       "      <td>885.8732</td>\n",
       "      <td>NaN</td>\n",
       "      <td>1.007032</td>\n",
       "      <td>NaN</td>\n",
       "    </tr>\n",
       "  </tbody>\n",
       "</table>\n",
       "</div>"
      ],
      "text/plain": [
       "                   Date MSCI AC World Index EUR Net MSCI ACWI GDP Net Local  \\\n",
       "13                  NaN                         100                 877.689   \n",
       "14  2001-01-01 00:00:00                      99.995                 877.613   \n",
       "15  2001-01-02 00:00:00                      97.602                866.1976   \n",
       "16  2001-01-03 00:00:00                      99.782                879.6873   \n",
       "17  2001-01-04 00:00:00                     100.061                885.8732   \n",
       "\n",
       "   FTSE ALL WORLD  PercentageChange  MSCI ACWI GDP Net  \n",
       "13            NaN          1.000000              100.0  \n",
       "14            NaN          0.999913                NaN  \n",
       "15            NaN          0.986993                NaN  \n",
       "16            NaN          1.015573                NaN  \n",
       "17            NaN          1.007032                NaN  "
      ]
     },
     "execution_count": 7,
     "metadata": {},
     "output_type": "execute_result"
    }
   ],
   "source": [
    "#MSCI GDP percentage change\n",
    "df['PercentageChange'] = df['MSCI ACWI GDP Net Local'].pct_change() +1\n",
    "df.loc[:13, 'PercentageChange'] = 1\n",
    "\n",
    "#create new column for MSCI GDP\n",
    "df['MSCI ACWI GDP Net'] = np.nan\n",
    "df.loc[:13, 'MSCI ACWI GDP Net'] = 100\n",
    "\n",
    "df.head()"
   ]
  },
  {
   "cell_type": "code",
   "execution_count": 8,
   "id": "pointed-tract",
   "metadata": {},
   "outputs": [
    {
     "data": {
      "text/html": [
       "<div>\n",
       "<style scoped>\n",
       "    .dataframe tbody tr th:only-of-type {\n",
       "        vertical-align: middle;\n",
       "    }\n",
       "\n",
       "    .dataframe tbody tr th {\n",
       "        vertical-align: top;\n",
       "    }\n",
       "\n",
       "    .dataframe thead th {\n",
       "        text-align: right;\n",
       "    }\n",
       "</style>\n",
       "<table border=\"1\" class=\"dataframe\">\n",
       "  <thead>\n",
       "    <tr style=\"text-align: right;\">\n",
       "      <th></th>\n",
       "      <th>Date</th>\n",
       "      <th>MSCI AC World Index EUR Net</th>\n",
       "      <th>MSCI ACWI GDP Net Local</th>\n",
       "      <th>FTSE ALL WORLD</th>\n",
       "      <th>PercentageChange</th>\n",
       "      <th>MSCI ACWI GDP Net</th>\n",
       "    </tr>\n",
       "  </thead>\n",
       "  <tbody>\n",
       "    <tr>\n",
       "      <th>13</th>\n",
       "      <td>NaN</td>\n",
       "      <td>100</td>\n",
       "      <td>877.689</td>\n",
       "      <td>NaN</td>\n",
       "      <td>1.000000</td>\n",
       "      <td>100.000000</td>\n",
       "    </tr>\n",
       "    <tr>\n",
       "      <th>14</th>\n",
       "      <td>2001-01-01 00:00:00</td>\n",
       "      <td>99.995</td>\n",
       "      <td>877.613</td>\n",
       "      <td>NaN</td>\n",
       "      <td>0.999913</td>\n",
       "      <td>99.991341</td>\n",
       "    </tr>\n",
       "    <tr>\n",
       "      <th>15</th>\n",
       "      <td>2001-01-02 00:00:00</td>\n",
       "      <td>97.602</td>\n",
       "      <td>866.1976</td>\n",
       "      <td>NaN</td>\n",
       "      <td>0.986993</td>\n",
       "      <td>98.690721</td>\n",
       "    </tr>\n",
       "    <tr>\n",
       "      <th>16</th>\n",
       "      <td>2001-01-03 00:00:00</td>\n",
       "      <td>99.782</td>\n",
       "      <td>879.6873</td>\n",
       "      <td>NaN</td>\n",
       "      <td>1.015573</td>\n",
       "      <td>100.227677</td>\n",
       "    </tr>\n",
       "    <tr>\n",
       "      <th>17</th>\n",
       "      <td>2001-01-04 00:00:00</td>\n",
       "      <td>100.061</td>\n",
       "      <td>885.8732</td>\n",
       "      <td>NaN</td>\n",
       "      <td>1.007032</td>\n",
       "      <td>100.932472</td>\n",
       "    </tr>\n",
       "  </tbody>\n",
       "</table>\n",
       "</div>"
      ],
      "text/plain": [
       "                   Date MSCI AC World Index EUR Net MSCI ACWI GDP Net Local  \\\n",
       "13                  NaN                         100                 877.689   \n",
       "14  2001-01-01 00:00:00                      99.995                 877.613   \n",
       "15  2001-01-02 00:00:00                      97.602                866.1976   \n",
       "16  2001-01-03 00:00:00                      99.782                879.6873   \n",
       "17  2001-01-04 00:00:00                     100.061                885.8732   \n",
       "\n",
       "   FTSE ALL WORLD  PercentageChange  MSCI ACWI GDP Net  \n",
       "13            NaN          1.000000         100.000000  \n",
       "14            NaN          0.999913          99.991341  \n",
       "15            NaN          0.986993          98.690721  \n",
       "16            NaN          1.015573         100.227677  \n",
       "17            NaN          1.007032         100.932472  "
      ]
     },
     "execution_count": 8,
     "metadata": {},
     "output_type": "execute_result"
    }
   ],
   "source": [
    "#apply formula\n",
    "for i in range(14, len(df)):\n",
    "    df.loc[i, 'MSCI ACWI GDP Net'] = df.loc[i-1, 'MSCI ACWI GDP Net'] * df.loc[i, 'PercentageChange']\n",
    "    \n",
    "df.head()"
   ]
  },
  {
   "cell_type": "code",
   "execution_count": 9,
   "id": "attempted-monroe",
   "metadata": {},
   "outputs": [
    {
     "data": {
      "text/html": [
       "<div>\n",
       "<style scoped>\n",
       "    .dataframe tbody tr th:only-of-type {\n",
       "        vertical-align: middle;\n",
       "    }\n",
       "\n",
       "    .dataframe tbody tr th {\n",
       "        vertical-align: top;\n",
       "    }\n",
       "\n",
       "    .dataframe thead th {\n",
       "        text-align: right;\n",
       "    }\n",
       "</style>\n",
       "<table border=\"1\" class=\"dataframe\">\n",
       "  <thead>\n",
       "    <tr style=\"text-align: right;\">\n",
       "      <th></th>\n",
       "      <th>Date</th>\n",
       "      <th>MSCI AC World Index EUR Net</th>\n",
       "      <th>MSCI ACWI GDP Net</th>\n",
       "    </tr>\n",
       "  </thead>\n",
       "  <tbody>\n",
       "    <tr>\n",
       "      <th>13</th>\n",
       "      <td>NaN</td>\n",
       "      <td>100</td>\n",
       "      <td>100.000000</td>\n",
       "    </tr>\n",
       "    <tr>\n",
       "      <th>14</th>\n",
       "      <td>2001-01-01 00:00:00</td>\n",
       "      <td>99.995</td>\n",
       "      <td>99.991341</td>\n",
       "    </tr>\n",
       "    <tr>\n",
       "      <th>15</th>\n",
       "      <td>2001-01-02 00:00:00</td>\n",
       "      <td>97.602</td>\n",
       "      <td>98.690721</td>\n",
       "    </tr>\n",
       "    <tr>\n",
       "      <th>16</th>\n",
       "      <td>2001-01-03 00:00:00</td>\n",
       "      <td>99.782</td>\n",
       "      <td>100.227677</td>\n",
       "    </tr>\n",
       "    <tr>\n",
       "      <th>17</th>\n",
       "      <td>2001-01-04 00:00:00</td>\n",
       "      <td>100.061</td>\n",
       "      <td>100.932472</td>\n",
       "    </tr>\n",
       "  </tbody>\n",
       "</table>\n",
       "</div>"
      ],
      "text/plain": [
       "                   Date MSCI AC World Index EUR Net  MSCI ACWI GDP Net\n",
       "13                  NaN                         100         100.000000\n",
       "14  2001-01-01 00:00:00                      99.995          99.991341\n",
       "15  2001-01-02 00:00:00                      97.602          98.690721\n",
       "16  2001-01-03 00:00:00                      99.782         100.227677\n",
       "17  2001-01-04 00:00:00                     100.061         100.932472"
      ]
     },
     "execution_count": 9,
     "metadata": {},
     "output_type": "execute_result"
    }
   ],
   "source": [
    "#isolating relevant indices\n",
    "df2 = df.loc[:,['Date', 'MSCI AC World Index EUR Net', 'MSCI ACWI GDP Net']]\n",
    "\n",
    "df2.head()"
   ]
  },
  {
   "cell_type": "code",
   "execution_count": 10,
   "id": "overall-introduction",
   "metadata": {},
   "outputs": [
    {
     "data": {
      "text/plain": [
       "<AxesSubplot:xlabel='Date'>"
      ]
     },
     "execution_count": 10,
     "metadata": {},
     "output_type": "execute_result"
    },
    {
     "data": {
      "image/png": "[encoded data removed]",
      "text/plain": [
       "<Figure size 432x288 with 1 Axes>"
      ]
     },
     "metadata": {
      "needs_background": "light"
     },
     "output_type": "display_data"
    }
   ],
   "source": [
    "#plotting function\n",
    "df2.set_index('Date', inplace=True)\n",
    "df2.plot()"
   ]
  },
  {
   "cell_type": "code",
   "execution_count": 12,
   "id": "moving-corruption",
   "metadata": {},
   "outputs": [
    {
     "data": {
      "text/plain": [
       "pandas.core.series.Series"
      ]
     },
     "execution_count": 12,
     "metadata": {},
     "output_type": "execute_result"
    }
   ],
   "source": [
    "#probeersel decomposition\n",
    "time_series = df['MSCI AC World Index EUR Net']\n",
    "type(time_series)"
   ]
  },
  {
   "cell_type": "code",
   "execution_count": 13,
   "id": "occupied-movement",
   "metadata": {},
   "outputs": [
    {
     "data": {
      "text/plain": [
       "<matplotlib.legend.Legend at 0x7f3c165f4af0>"
      ]
     },
     "execution_count": 13,
     "metadata": {},
     "output_type": "execute_result"
    },
    {
     "data": {
      "image/png": "[encoded data removed]",
      "text/plain": [
       "<Figure size 432x288 with 1 Axes>"
      ]
     },
     "metadata": {
      "needs_background": "light"
     },
     "output_type": "display_data"
    }
   ],
   "source": [
    "#decompose for fluctuations\n",
    "time_series.rolling(365).mean().plot(label='Yearly rolling mean')\n",
    "time_series.rolling(365).std().plot(label='Yearly rolling std')\n",
    "time_series.plot()\n",
    "plt.legend()"
   ]
  },
  {
   "cell_type": "code",
   "execution_count": 15,
   "id": "norwegian-anderson",
   "metadata": {},
   "outputs": [],
   "source": [
    "from statsmodels.tsa.seasonal import seasonal_decompose"
   ]
  },
  {
   "cell_type": "code",
   "execution_count": 16,
   "id": "neural-outreach",
   "metadata": {},
   "outputs": [],
   "source": [
    "decomp = seasonal_decompose(time_series)"
   ]
  },
  {
   "cell_type": "code",
   "execution_count": 17,
   "id": "elegant-course",
   "metadata": {},
   "outputs": [
    {
     "data": {
      "image/png": "[encoded data removed]",
      "text/plain": [
       "<Figure size 432x288 with 4 Axes>"
      ]
     },
     "metadata": {
      "needs_background": "light"
     },
     "output_type": "display_data"
    }
   ],
   "source": [
    "fig = decomp.plot()"
   ]
  },
  {
   "cell_type": "code",
   "execution_count": 11,
   "id": "animal-management",
   "metadata": {},
   "outputs": [],
   "source": [
    "#decomposition niet op juiste cyclus"
   ]
  }
 ],
 "metadata": {
  "kernelspec": {
   "display_name": "Python 3",
   "language": "python",
   "name": "python3"
  },
  "language_info": {
   "codemirror_mode": {
    "name": "ipython",
    "version": 3
   },
   "file_extension": ".py",
   "mimetype": "text/x-python",
   "name": "python",
   "nbconvert_exporter": "python",
   "pygments_lexer": "ipython3",
   "version": "3.8.6"
  }
 },
 "nbformat": 4,
 "nbformat_minor": 5
}
